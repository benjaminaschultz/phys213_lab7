{
 "cells": [
  {
   "cell_type": "markdown",
   "metadata": {},
   "source": [
    "## Fitting to theory\n",
    "\n",
    "Now that we have a rough idea of how the model behaves in simulation, we can fit our results to some theoretical predictions. I ran 140 dfferent simulations (for much longer than in the previous notebook) at 14 different values of $\\beta$. Execute the cells below to pull up an interactive plot, and answer the questions."
   ]
  },
  {
   "cell_type": "code",
   "execution_count": null,
   "metadata": {},
   "outputs": [],
   "source": [
    "%load_ext cython\n",
    "%matplotlib notebook\n",
    "\n",
    "\n",
    "import numpy as np\n",
    "from ipywidgets import interact\n",
    "import ipywidgets as widgets\n",
    "import glob\n",
    "import h5py\n",
    "from collections import defaultdict\n",
    "from matplotlib import pyplot as plt\n",
    "from matplotlib.gridspec import GridSpec\n",
    "from scipy.optimize import curve_fit\n",
    "\n",
    "def magnetization(img):\n",
    "    return np.sum(img)/np.prod(img.shape)"
   ]
  },
  {
   "cell_type": "code",
   "execution_count": null,
   "metadata": {},
   "outputs": [],
   "source": [
    "%%cython\n",
    "cimport cython\n",
    "cimport numpy as np\n",
    "\n",
    "@cython.boundscheck(False)\n",
    "@cython.wraparound(False)\n",
    "def cy_ising_energy(np.int64_t[:, :] field):\n",
    "    cdef int total = 0\n",
    "    cdef int N = field.shape[0]\n",
    "    cdef int M = field.shape[1]\n",
    "    cdef int i, j\n",
    "    cdef int n, m\n",
    "    cdef float total_E = 0\n",
    "    cdef float row_E = 0 \n",
    "    for n in range(N):\n",
    "        row_E = 0 \n",
    "        for m in range(M):\n",
    "            total = 0\n",
    "            for i in range(n-1, n+2):\n",
    "                for j in range(m-1, m+2):\n",
    "                    if i == n and j == m:\n",
    "                        continue\n",
    "                    total += field[i % N, j % M]\n",
    "            row_E += - field[n, m] * total\n",
    "        total_E += row_E\n",
    "    return total_E /(N * M)"
   ]
  },
  {
   "cell_type": "code",
   "execution_count": null,
   "metadata": {},
   "outputs": [],
   "source": [
    "magnetization_by_temperature = defaultdict(list)\n",
    "energy_by_temperature = defaultdict(list)\n",
    "images_by_temperature = defaultdict(list)\n",
    "for filename in glob.glob('run_*.hdf5'):\n",
    "    with h5py.File(filename,'r') as input_file:\n",
    "        beta = input_file.attrs['beta']\n",
    "        img = np.array(input_file['image'])\n",
    "        magnet = magnetization(img)\n",
    "        energy = cy_ising_energy(img)\n",
    "        magnetization_by_temperature[beta].append(magnet)\n",
    "        energy_by_temperature[beta].append(energy)\n",
    "        images_by_temperature[beta].append(img)\n",
    "\n",
    "betas = np.array(sorted(list(set(magnetization_by_temperature.keys()))))\n",
    "e_average = np.array([np.mean(energy_by_temperature[beta]) for beta in betas])\n",
    "e_sigma = np.array([np.std(energy_by_temperature[beta]) for beta in betas])/np.sqrt(10)"
   ]
  },
  {
   "cell_type": "code",
   "execution_count": null,
   "metadata": {
    "scrolled": false
   },
   "outputs": [],
   "source": [
    "def show_data():\n",
    "    gs = GridSpec(ncols=5, nrows=25)\n",
    "    betas = magnetization_by_temperature.keys()\n",
    "    all_energies = []\n",
    "    all_magnets = []\n",
    "    all_betas = []\n",
    "    for b in betas:\n",
    "        all_energies.extend(energy_by_temperature[b])\n",
    "        all_magnets.extend(magnetization_by_temperature[b])\n",
    "        all_betas.extend([float(b)]*10)\n",
    "    \n",
    "    fig = plt.figure(figsize = (9, 9))\n",
    "    img_axes = []\n",
    "    mag_ax = fig.add_subplot(gs[0:9, :])\n",
    "    e_ax = fig.add_subplot(gs[11:17, :])\n",
    "    for i in range(2):\n",
    "        for j in range(5):\n",
    "            ax = fig.add_subplot(gs[19 + 3*i : 22 + 3*i, j])\n",
    "            img_axes.append((i, j, ax))\n",
    "    \n",
    "    def show_beta(beta):\n",
    "        beta = float(beta)\n",
    "        mag_ax.clear()\n",
    "        mag_ax.plot(all_betas, all_magnets, 'ok', alpha= 0.3)   \n",
    "        mag_ax.plot([beta] * 10, magnetization_by_temperature[beta], 'or', alpha= 1.0)\n",
    "        mag_ax.set_xlabel(r\"$\\beta$\")\n",
    "        mag_ax.set_ylabel(\"Magnetization\")\n",
    "        mag_ax.set_title(\"beta = {:0.02f}\".format(beta))\n",
    "\n",
    "        e_ax.clear()\n",
    "        e_ax.plot(all_betas, all_energies, 'ok', alpha= 0.3)\n",
    "        e_ax.plot([beta] * 10, energy_by_temperature[beta], 'or', alpha= 1.0)\n",
    "\n",
    "        e_ax.set_xlabel(r\"$\\beta$\")\n",
    "        e_ax.set_ylabel(\"Energy\")\n",
    "\n",
    "        for i, j, ax in img_axes:\n",
    "            ax.clear()\n",
    "            ax.imshow(1 - images_by_temperature[beta][5*i + j], 'gray')\n",
    "            ax.get_xaxis().set_visible(False)\n",
    "            ax.get_yaxis().set_visible(False)\n",
    "        plt.show()\n",
    "    \n",
    "    beta_selector = widgets.SelectionSlider(\n",
    "        options=['{:0.2f}'.format(b) for b in sorted(set(all_betas))],\n",
    "        description='beta = ',\n",
    "        disabled=False,\n",
    "        continuous_update=False,\n",
    "        orientation='horizontal',\n",
    "        readout=True,\n",
    "        layout=widgets.Layout(width='90%')\n",
    "    )\n",
    "    interact(show_beta, beta=beta_selector)"
   ]
  },
  {
   "cell_type": "markdown",
   "metadata": {},
   "source": [
    "## Explore the phase diagram\n",
    "\n",
    "First, let's explore the phase diagram of the Ising model. Describe what happens as you increase the temperature.\n",
    "\n",
    "What's going on with the data at $\\beta = 0.26$?"
   ]
  },
  {
   "cell_type": "markdown",
   "metadata": {},
   "source": [
    "Enter your answer here."
   ]
  },
  {
   "cell_type": "code",
   "execution_count": null,
   "metadata": {
    "scrolled": false
   },
   "outputs": [],
   "source": [
    "show_data()"
   ]
  },
  {
   "cell_type": "markdown",
   "metadata": {},
   "source": [
    "One simplifed treament suggests that the energy $U$ of the Ising model has the following functional dependence on $\\beta$\n",
    "\n",
    "$$ U = n \\left(\\frac{1}{\\exp\\left(\\alpha(\\beta-\\beta_c)\\right) + 1} - 1\\right) $$\n",
    "\n",
    "where n is the number of neighbor is the Ising model ($n=8$ in 2D), and $\\alpha$ and $\\beta_c$ are free parameters. Use `scipy.curve_fit` to find them.\n",
    "\n",
    "The variables defined in this notebook that you will need are\n",
    "\n",
    "`betas` = the $\\beta$s at which the energy was measured\n",
    "\n",
    "`e_average` = the average energy $U$ at each beta\n",
    "\n",
    "\n",
    "`e_sigma` = the standard error in energy $U$ at each beta\n"
   ]
  },
  {
   "cell_type": "code",
   "execution_count": null,
   "metadata": {},
   "outputs": [],
   "source": [
    "def e_theory(beta, alpha, beta_c):\n",
    "    return 8 * (1 / (np.exp(alpha*(beta-beta_c)) + 1) - 1)\n",
    "\n",
    "params, _ = curve_fit(e_theory, betas, e_average, sigma=e_sigma)\n",
    "\n",
    "print('alpha: {}, beta_c: {}'.format(params[0], params[1]))"
   ]
  },
  {
   "cell_type": "markdown",
   "metadata": {},
   "source": [
    "Now, plot it below."
   ]
  },
  {
   "cell_type": "code",
   "execution_count": null,
   "metadata": {},
   "outputs": [],
   "source": [
    "plt.figure()\n",
    "beta_theory = np.linspace(0.1, 0.31, 1000)\n",
    "plt.plot(beta_theory, e_theory(beta_theory, *params), '-k', label = 'fit')\n",
    "plt.errorbar(betas, e_average, yerr=3*e_sigma, fmt='.r', label='data')\n",
    "plt.ylabel('Energy')\n",
    "plt.xlabel(r'$\\beta$')\n",
    "plt.show()"
   ]
  },
  {
   "cell_type": "markdown",
   "metadata": {},
   "source": [
    "How well does this model fit our data? Support your answer."
   ]
  },
  {
   "cell_type": "markdown",
   "metadata": {},
   "source": [
    "Answer here"
   ]
  }
 ],
 "metadata": {
  "kernelspec": {
   "display_name": "Python 3",
   "language": "python",
   "name": "python3"
  },
  "language_info": {
   "codemirror_mode": {
    "name": "ipython",
    "version": 3
   },
   "file_extension": ".py",
   "mimetype": "text/x-python",
   "name": "python",
   "nbconvert_exporter": "python",
   "pygments_lexer": "ipython3",
   "version": "3.9.2"
  }
 },
 "nbformat": 4,
 "nbformat_minor": 4
}
